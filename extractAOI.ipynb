{
 "cells": [
  {
   "cell_type": "code",
   "execution_count": 1,
   "metadata": {
    "ExecuteTime": {
     "end_time": "2023-08-09T13:37:37.904189Z",
     "start_time": "2023-08-09T13:37:32.384431Z"
    },
    "collapsed": false
   },
   "outputs": [],
   "source": [
    "# My OpenAI Key\n",
    "import os\n",
    "import openai\n",
    "\n",
    "openai.api_key = os.getenv(\"OPENAI_API_KEY\")\n",
    "\n"
   ]
  },
  {
   "cell_type": "code",
   "execution_count": 32,
   "metadata": {},
   "outputs": [
    {
     "name": "stdout",
     "output_type": "stream",
     "text": [
      "=== Calling Function ===\n",
      "Calling function: expedia_task_1 with args: {\n",
      "\"input\": \"Expedia Task 1\"\n",
      "}\n",
      "Got output: The task appears to involve searching for roundtrip flights from Toronto to New York, departing on September 20, 2023, and returning on September 30, 2023. The search is for one adult passenger with no infants. The flight options are being sorted by increasing price.\n",
      "========================\n",
      "=== Calling Function ===\n",
      "Calling function: expedia_task_2 with args: {\n",
      "\"input\": \"Expedia Task 2\"\n",
      "}\n",
      "Got output: The context information provided does not specify a task or question related to Expedia. Please provide more details or a specific question.\n",
      "========================\n",
      "=== Calling Function ===\n",
      "Calling function: expedia_task_3 with args: {\n",
      "\"input\": \"Expedia Task 3\"\n",
      "}\n",
      "Got output: The context information does not provide a specific task labeled as \"Expedia Task 3\". Could you please provide more details or clarify the task?\n",
      "========================\n",
      "=== Calling Function ===\n",
      "Calling function: kayak_task_1 with args: {\n",
      "\"input\": \"Kayak Task 1\"\n",
      "}\n",
      "Got output: The context information provided does not specify a task related to Kayak. Please provide more details.\n",
      "========================\n",
      "=== Calling Function ===\n",
      "Calling function: kayak_task_2 with args: {\n",
      "\"input\": \"Kayak Task 2\"\n",
      "}\n",
      "Got output: The context information provided does not contain enough information to answer the question about \"Kayak Task 2\".\n",
      "========================\n",
      "=== Calling Function ===\n",
      "Calling function: kayak_task_3 with args: {\n",
      "\"input\": \"Kayak Task 3\"\n",
      "}\n",
      "Got output: The context information does not provide a specific task labeled as \"Kayak Task 3\". Therefore, it's impossible to provide an answer based on the given context.\n",
      "========================\n"
     ]
    },
    {
     "data": {
      "text/plain": [
       "Response(response='Based on the information provided, here are the results:\\n\\n- For Expedia Task 1, the task involves searching for roundtrip flights from Toronto to New York, departing on September 20, 2023, and returning on September 30, 2023. The search is for one adult passenger with no infants. The flight options are being sorted by increasing price.\\n\\n- For Expedia Task 2 and Task 3, as well as Kayak Task 1, Task 2, and Task 3, the context information provided does not specify a task or question. Please provide more details or a specific question.', source_nodes=[], metadata=None)"
      ]
     },
     "execution_count": 32,
     "metadata": {},
     "output_type": "execute_result"
    }
   ],
   "source": [
    "query = \"\"\"\n",
    "                        You are uxGPT, an AI ux researcher that identifies usability issues and generates actionable insights using a combination of eye-tracking metrics, usability behavioral metrics, and webpage data.\n",
    "\n",
    "                        You are given the results of a user study. This study was designed to evaluate the usability of online travel booking websites Expedia.com and Kayak.com.\n",
    "\n",
    "                        The participant was instructed to conduct three tasks on each website. The tasks were as follows:\n",
    "                        Task 1: search for a round-trip flight from Toronto to New York, departing on September 20, 2023, and returning on September 30, 2023. They should find the cheapest option that does not have more than one layover or a total travel time exceeding 12 hours.\n",
    "                        Task 2: search for a hotel in Manhattan, New York City for the dates of their flight. The hotel should have free Wi-Fi and breakfast included, be rated at least four stars, and the price should not exceed $200 per night.\n",
    "                        Task 3: search for a rental car, pickup and dropoff at JFK, for the dates of their flight. The car should be a standard sized sedan, have unlimited mileage, and the price should not exceed $50 per day.\n",
    "\n",
    "                       \n",
    "                       For each task on each webstite, you have an AI tool that can respond to queries you have about the accessibilty trees of the websites visited during each task.\n",
    "                       \n",
    "\n",
    "                        Metrics generated from study:\n",
    "                        \"Task Name\",\"Mental Demand (Scale 1-7)\",\"Physical Demand (Scale 1-7)\",\"Perceived Task Pace (Scale 1-7)\",\"Task Success Perception (Scale 1-7)\",\"Effort Level to Achieve Performance (Scale 1-7)\",\"Emotional Stress Level (Scale 1-7)\",\"Number of Fixations Overall\",\"Saccade to Fixation Ratio\",\"Number of Saccades\",\"Task Completion Time (s)\",\"Time Until First Click (s)\",\"Mean Time Between Clicks (s)\",\"Number of Mouse Clicks\",\"Scanpath Length (px)\",\"Mousepath Length (px)\"\n",
    "                        \"Expedia Task 1\",2,\"1 (Low)\",2,5,2,4,10761,\"18.2%\",1959,224,2,6,32,268919.02,15229.22\n",
    "                        \"Expedia Task 2\",2,\"1 (Low)\",2,5,2,2,8981,\"19.9%\",1783,209,13,10,19,233192.33,8266.11\n",
    "                        \"Expedia Task 3\",\"1 (Low)\",\"1 (Low)\",\"1 (Low)\",\"1 (Perfect)\",\"1 (Low)\",\"1 (Low)\",5659,\"21.2%\",1197,119,0,5,23,155385.34,10839.55\n",
    "                        \"Kayak Task 1\",2,\"1 (Low)\",\"1 (Low)\",\"1 (Perfect)\",\"1 (Low)\",\"1 (Low)\",8765,\"17.6%\",1540,179,1,8,22,215285.41,10092.51\n",
    "                        \"Kayak Task 2\",\"1 (Low)\",\"1 (Low)\",2,\"7 (Failure)\",3,4,9393,\"20.1%\",1885,209,3,9,22,231106.77,10946.90\n",
    "                        \"Kayak Task 3\",\"1 (Low)\",\"1 (Low)\",\"1 (Low)\",4,5,6,10740,\"22.1%\",2369,224,0,3,66,259267.74,18672.11\n",
    "\n",
    "\n",
    "                        Let’s devise a plan to to conduct the comprehensive analysis. Then, carry out the plan and solve the problem step by step.                     \n",
    "                    \n",
    "                        To compare the metrics across tasks and websites, we will look at the differences in the values for each metric for each task on each website. Here's a summary of the comparison:\\n\\n1. **Mental Demand**: The mental demand was generally low for all tasks on both websites, with a score of 2 or 1. This suggests that the tasks were not mentally taxing for the user.\\n\\n2. **Physical Demand**: The physical demand was also low for all tasks on both websites, with a score of 1. This suggests that the tasks did not require a lot of physical effort from the user.\\n\\n3. **Perceived Task Pace**: The perceived task pace was low for all tasks on both websites, with a score of 2 or 1. This suggests that the user did not feel rushed while completing the tasks.\\n\\n4. **Task Success Perception**: The user felt they were successful in completing all tasks on Expedia, with a score of 5 or 1. However, on Kayak, the user felt they failed Task 2, with a score of 7, and were moderately successful in Task 3, with a score of 4.\\n\\n5. **Effort Level to Achieve Performance**: The effort level was generally low for all tasks on both websites, with a score of 2 or 1. However, the user felt they had to put in a moderate amount of effort to perform well in Task 3 on Kayak, with a score of 5.\\n\\n6. **Emotional Stress Level**: The user experienced some stress while completing the tasks on Expedia, with a score of 4 or 2. On Kayak, the user experienced moderate stress in Task 3, with a score of 6, and some stress in Task 2, with a score of 4.\\n\\n7. **Number of Fixations Overall**: The number of fixations was highest for Task 1 on both websites, suggesting that the user had to search extensively to find the information they needed for this task.\\n\\n8. **Saccade to Fixation Ratio**: The saccade to fixation ratio was highest for Task 3 on both websites, suggesting that the user was scanning the screen quickly for this task.\\n\\n9. **Number of Saccades**: The number of saccades was highest for Task 1 on Expedia and Task 3 on Kayak, suggesting that the user was scanning the screen extensively for these tasks.\\n\\n10. **Task Completion Time**: The task completion time was longest for Task 1 on both websites, suggesting that this task was the most complex or difficult.\\n\\n11. **Time Until First Click**: The time until the first click was longest for Task 1 on both websites, suggesting that the user had difficulty figuring out where to start for this task.\\n\\n12. **Mean Time Between Clicks**: The mean time between clicks was longest for Task 2 on both websites, suggesting that the user had difficulty figuring out what to do next for this task.\\n\\n13. **Number of Mouse Clicks**: The number of mouse clicks was highest for Task 1 on Expedia and Task 3 on Kayak, suggesting that the user had to interact extensively with the website for these tasks.\\n\\n14. **Scanpath Length**: The scanpath length was longest for Task 1 on both websites, suggesting that the user had to search extensively to find the information they needed for this task.\\n\\n15. **Mousepath Length**: The mousepath length was longest for Task 1 on Expedia and Task 3 on Kayak, suggesting that the user had to move the mouse extensively for these tasks.\\n\\nBased on this comparison, it appears that Task 1 was the most challenging on both websites, as it had the highest values for several metrics. Task 2 on Kayak also seems to have been difficult for the user, as indicated by the high task success perception score and the long mean time between clicks.\\n\\nNext, let's move on to step 3 and identify potential usability issues based on these metrics.\\nBased on the metrics, we can identify several potential usability issues:\\n\\n1. **Task 1 Complexity**: Task 1, which involved searching for a round-trip flight, appears to have been the most complex or difficult task on both websites. This is indicated by the high number of fixations, saccades, mouse clicks, and the long task completion time, time until first click, scanpath length, and mousepath length. This suggests that the user had to search extensively and interact a lot with the website to complete this task. The flight search functionality on both websites might be complex or not intuitive enough, making it difficult for users to find the information they need.\\n\\n2. **Task 2 Difficulty on Kayak**: The user perceived that they failed Task 2 on Kayak, which involved searching for a hotel. This is also indicated by the long mean time between clicks, suggesting that the user had difficulty figuring out what to do next. The hotel search functionality on Kayak might be confusing or not user-friendly, making it difficult for users to complete the task.\\n\\n3. **Task 3 Stress on Kayak**: The user experienced a high level of stress while completing Task 3 on Kayak, which involved searching for a rental car. This is also indicated by the high number of saccades and mouse clicks, and the long mousepath length, suggesting that the user had to scan the screen extensively and interact a lot with the website. The car rental search functionality on Kayak might be stressful or frustrating for users, possibly due to a complex or confusing interface.\\n\\nNext, let's move on to step 4 and generate actionable insights based on these identified usability issues.\n",
    "                        \n",
    "                        Actionable insights:  1. Simplify Flight Search Functionality: Both Expedia and Kayak could improve the user experience by simplifying the flight search functionality. This could involve making the search filters more intuitive, improving the visibility of important information, or reducing the number of steps required to complete a search. This could help reduce the number of fixations, saccades, mouse clicks, and the task completion time, making the task less complex and more efficient for users.  2. Improve Hotel Search Functionality on Kayak: Kayak could improve the user experience by making the hotel search functionality more user-friendly. This could involve improving the clarity of the search filters, making the search results easier to navigate, or providing clearer instructions or prompts to guide the user through the task. This could help reduce the mean time between clicks, making the task less confusing and more straightforward for users.  3. Reduce Stress in Car Rental Search on Kayak: Kayak could improve the user experience by making the car rental search functionality less stressful. This could involve simplifying the interface, making the search filters more intuitive, or providing clearer instructions or prompts to guide the user through the task. This could help reduce the number of saccades and mouse clicks, and the mousepath length, making the task less frustrating and more enjoyable for users.  Finally, let's move on to step 5 and use the AI functions to analyze the accessibility trees of the webpages accessed during the tasks. This will give us additional insights into the structure and accessibility of the webpages, which can further inform our recommendations.   We will use the following functions for this analysis:  - `functions.expedia_task_1` - `functions.expedia_task_2` - `functions.expedia_task_3` - `functions.kayak_task_1` - `functions.kayak_task_2` - `functions.kayak_task_3`  By analyzing the accessibility trees, we can gain insights into how the information is structured on the webpages and how easy it is for users to access and understand this information. This can help us identify any potential issues with the webpage design or layout that might be contributing to the usability issues identified in the user study.\n",
    "                       \"\"\")"
   ]
  },
  {
   "cell_type": "code",
   "execution_count": 10,
   "metadata": {},
   "outputs": [
    {
     "name": "stderr",
     "output_type": "stream",
     "text": [
      "100%|█████████████████████████████████████| 1.42G/1.42G [03:07<00:00, 8.13MiB/s]\n"
     ]
    }
   ],
   "source": [
    "import whisper\n",
    "\n",
    "model = whisper.load_model(\"medium\")"
   ]
  },
  {
   "cell_type": "code",
   "execution_count": 15,
   "metadata": {},
   "outputs": [
    {
     "name": "stderr",
     "output_type": "stream",
     "text": [
      "/Library/Frameworks/Python.framework/Versions/3.11/lib/python3.11/site-packages/whisper/__init__.py:63: UserWarning: /Users/issam/.cache/whisper/base.pt exists, but the SHA256 checksum does not match; re-downloading the file\n",
      "  warnings.warn(\n",
      "100%|███████████████████████████████████████| 139M/139M [00:18<00:00, 7.78MiB/s]\n",
      "/Library/Frameworks/Python.framework/Versions/3.11/lib/python3.11/site-packages/whisper/transcribe.py:114: UserWarning: FP16 is not supported on CPU; using FP32 instead\n",
      "  warnings.warn(\"FP16 is not supported on CPU; using FP32 instead\")\n"
     ]
    },
    {
     "name": "stdout",
     "output_type": "stream",
     "text": [
      " Okay, so I'm going to look for New York for the dates on 1st of November until the 30th November. It's just one traveler and yeah, I chose I accidentally searched for hotels instead of searching for flights. So I'm just going to go back even from Toronto going to New York. Same dates, 1st of October, 1th of November. So New York and the cheapest option is already sorted by price. The cheapest one is over $299. I said it's twice the other conditions which are less than $12 hour time and it has zero layovers. I'm perfectly turned flight the cheapest option also satisfies the conditions. Easy easy. Next I'm going to go. Now I'm going to search for hotels. Going to New York. I'm going to search for the first 30th one traveler. Search. Oh, I'm happy to make a free box for the appointment. I'm going to change that. The location setting. The hotel should have a breakfast included. Free Wi-Fi. Wi-Fi included. I second to filter it. We rated at least four stars. I'm going to choose the first one. I'm going to choose the first one. I'm going to choose the first one. I'm going to choose the first one. I second to filter it. I second to filter it. It is. I second to filter it. I second to filter it. I second to filter it. I second to filter it. Okay, double tree by hilton. Match was all looked criteria. And there it is. Okay, perfect. Next, let's do car rental. So hand, again. Cars, pick up. Pick up and drop off at GFK Airport. Pass and four same dates on the first third year. Good time, 1038m, good time. 1030m. Strict. Don't have any discount codes. Let's get that. Wow, it's taking some time to load. Looking for standards to see then. We might find a photo for that. Rental price should not exceed $50 per day. $50 per day, that's like $1500 for the whole trip. Okay, I found this great deal. On the Chevrolet Bolt or similar. Want to click reserve. Okay, here we go. Perfect. All done.\n"
     ]
    }
   ],
   "source": [
    "model2 = whisper.load_model(\"base\")\n",
    "result = model2.transcribe(\"audio.mp3\")\n",
    "print(result[\"text\"])"
   ]
  },
  {
   "cell_type": "code",
   "execution_count": 16,
   "metadata": {},
   "outputs": [
    {
     "name": "stderr",
     "output_type": "stream",
     "text": [
      "/Library/Frameworks/Python.framework/Versions/3.11/lib/python3.11/site-packages/whisper/__init__.py:63: UserWarning: /Users/issam/.cache/whisper/small.pt exists, but the SHA256 checksum does not match; re-downloading the file\n",
      "  warnings.warn(\n",
      "100%|███████████████████████████████████████| 461M/461M [01:30<00:00, 5.31MiB/s]\n",
      "/Library/Frameworks/Python.framework/Versions/3.11/lib/python3.11/site-packages/whisper/transcribe.py:114: UserWarning: FP16 is not supported on CPU; using FP32 instead\n",
      "  warnings.warn(\"FP16 is not supported on CPU; using FP32 instead\")\n"
     ]
    },
    {
     "name": "stdout",
     "output_type": "stream",
     "text": [
      " Okay, so we're gonna look for New York for the dates on 1st of November until the 30th November. It's just one traveler and I chose I accidentally searched for hotels instead searching for flights. So I'm just gonna go back. Even from Toronto, we're going to New York. Same dates, 1st of November, 1st of November. So North Bend cheap option, it's already sorted by price. The cheapest one is $2.99. It satisfies the other conditions which are less than 12 over our time and it has zero way overs. For the returned flight, the cheapest option also satisfies the conditions. So, yeah, easy peasy. Next, I'm gonna go, okay. Oh, now I'm gonna search for hotels. Oh, going to New York, 1st of October, 1 traveler. Traveler, search. Oh, Manhattan for me. I forgot to specify Manhattan, so. Yeah, I'm bad changed that. I'm bad changed the location setting, search. The hotel room should have breakfast included. Free Wi-Fi. Wi-Fi included, okay. I second to filters. We rated at least four stars. Sure. Then here's filter. I select four stars and five stars. Price should not exceed $200 per night. I'm just going to sort by price. I accept the chose. I don't know why it's at the dates number first to second. I remember. Oh. Okay, there is a filter here. I'm not sure if I can make it. Oh, it's not like filter two. Well, so I can filter by maximum price of $180 or maximum $240. I'm just going to add $200, which is weird. So I'm just going to say $240. Okay, double three by Hilton. Matches all of the criteria. And there it is. Okay, perfect. Next, let's do car rental. So again, cars pick up and drop off at JFK airport. Awesome. So we're at the same dates on the first 30th. Good time, 10.38 and 12.00 time. 10.30 PM. I don't have a discount code, so I'm going to skip that. It's taking some time to load and looking for a standard seat and they might find the filter for that. Rentals of course should not exceed $50 per day. $50 per day, that's like $1,500 for the whole trip. Okay, I found this great deal. On the Chevrolet Bolt or similar. I'm going to click reserve. Okay, here we go. Perfect, all done.\n"
     ]
    }
   ],
   "source": [
    "model3 = whisper.load_model(\"small\")\n",
    "result = model3.transcribe(\"audio.mp3\")\n",
    "print(result[\"text\"])"
   ]
  },
  {
   "cell_type": "code",
   "execution_count": 17,
   "metadata": {},
   "outputs": [
    {
     "name": "stderr",
     "output_type": "stream",
     "text": [
      "/Library/Frameworks/Python.framework/Versions/3.11/lib/python3.11/site-packages/whisper/transcribe.py:114: UserWarning: FP16 is not supported on CPU; using FP32 instead\n",
      "  warnings.warn(\"FP16 is not supported on CPU; using FP32 instead\")\n"
     ]
    },
    {
     "name": "stdout",
     "output_type": "stream",
     "text": [
      " Next, I'm going to search for lights from Toronto to New York. Okay, so Toronto and New York. Setting the dates from the first to 30th. With the township. This part is annoying. Okay, I'm looking for the cheapest option. That does not have more than one link over or travel time in 12 hours. That would be portrait headlines from Toronto to take $3. Yeah, that sounds good. Yeah, I thought those were these. Next, let's look for stays. For the same period. Okay, this is really appropriate to Expedia, a previous upside. Kayaks is awesome. They easy to use. For example, for Expedia, when I searched for hotels, first I searched for flights and then I had to search for hotels. I had to start searching from scratch again, whereas when I was searching for hotels, I searched for flights from Kayaks. The dates were all to preset and the destination. I didn't have to select New York again. The dates came up from the first and the one that I did. That's what was really easy. Okay, so let's filter in for free internet and free breakfast at the hotel. Price is not exceed $200 per night. So, I'm going to go to the hotel and find out what I'm doing. Awesome. Yeah, the hotel I found here, as well as the flight tickets on both of them were cheaper than on Expedia. Which is interesting. So, there's definitely a large variety here. Great. That's next. Look for car rental. Yeah, I'm really easy. Whoa. Whoa. Okay. Want to pick it up and drop it off as JFK. I forgot to say that word search for the car. Okay. Okay, I found the car easily and it's about the same price of the car's own Expedia. Although this one's fully electric, so maybe it's an advantage possible. Oh, that's so funny. This car, I'm going to have to admit to Expedia. So, interesting. So, yeah, I just ended up printing the same car. Actually. Awesome.\n"
     ]
    }
   ],
   "source": [
    "result2 = model2.transcribe(\"audio2.mp3\")\n",
    "print(result2[\"text\"])"
   ]
  },
  {
   "cell_type": "code",
   "execution_count": null,
   "metadata": {},
   "outputs": [],
   "source": []
  }
 ],
 "metadata": {
  "kernelspec": {
   "display_name": "Python 3",
   "language": "python",
   "name": "python3"
  },
  "language_info": {
   "codemirror_mode": {
    "name": "ipython",
    "version": 3
   },
   "file_extension": ".py",
   "mimetype": "text/x-python",
   "name": "python",
   "nbconvert_exporter": "python",
   "pygments_lexer": "ipython3",
   "version": "3.11.1"
  },
  "orig_nbformat": 4
 },
 "nbformat": 4,
 "nbformat_minor": 2
}
