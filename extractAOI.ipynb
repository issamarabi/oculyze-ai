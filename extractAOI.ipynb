{
 "cells": [
  {
   "cell_type": "code",
   "execution_count": 1,
   "metadata": {
    "ExecuteTime": {
     "end_time": "2023-08-09T13:37:37.904189Z",
     "start_time": "2023-08-09T13:37:32.384431Z"
    },
    "collapsed": false
   },
   "outputs": [],
   "source": [
    "# My OpenAI Key\n",
    "import os\n",
    "import openai\n",
    "\n",
    "openai.api_key = os.getenv(\"OPENAI_API_KEY\")\n",
    "\n"
   ]
  },
  {
   "cell_type": "markdown",
   "metadata": {},
   "source": [
    "## Processing Website Data"
   ]
  },
  {
   "cell_type": "code",
   "execution_count": null,
   "metadata": {},
   "outputs": [],
   "source": [
    "websites = [\"Expedia.com\", \"Kayak.com\"]\n",
    "tasks = [\"Task 1: search for a round-trip flight from Toronto to New York, departing on December 20, 2023, and returning on January 10, 2024. Find the cheapest option that has < 2 layovers and total travel time < 8 hours\",\n",
    "         \"Task 2: search for a hotel in Manhattan, New York City for the dates of their flight. The hotel should have Wi-Fi and breakfast included, be rated at least four stars, and price should not exceed $250 per night\",\n",
    "         \"Task 3: search for a rental car, pickup and dropoff at JFK, for the dates of their flight. The car should be a standard sized sedan, have unlimited mileage, and price < $60 per day.\"]\n",
    "metrics = \"\"\"\n",
    "            \"Task Name\",\"Mental Demand (Scale 1-7)\",\"Physical Demand (Scale 1-7)\",\"Perceived Task Pace (Scale 1-7)\",\"Task Success Perception (Scale 1-7)\",\"Effort Level to Achieve Performance (Scale 1-7)\",\"Emotional Stress Level (Scale 1-7)\",\"Number of Fixations Overall\",\"Saccade to Fixation Ratio\",\"Number of Saccades\",\"Task Completion Time (s)\",\"Time Until First Click (s)\",\"Mean Time Between Clicks (s)\",\"Number of Mouse Clicks\",\"Scanpath Length (px)\",\"Mousepath Length (px)\"\n",
    "            \"Expedia Task 1\",2,\"1 (Low)\",2,5,2,4,10761,\"18.2%\",1959,224,2,6,32,268919.02,15229.22\n",
    "            \"Expedia Task 2\",2,\"1 (Low)\",2,5,2,2,8981,\"19.9%\",1783,209,13,10,19,233192.33,8266.11\n",
    "            \"Expedia Task 3\",\"1 (Low)\",\"1 (Low)\",\"1 (Low)\",\"1 (Perfect)\",\"1 (Low)\",\"1 (Low)\",5659,\"21.2%\",1197,119,0,5,23,155385.34,10839.55\n",
    "            \"Kayak Task 1\",2,\"1 (Low)\",\"1 (Low)\",\"1 (Perfect)\",\"1 (Low)\",\"1 (Low)\",8765,\"17.6%\",1540,179,1,8,22,215285.41,10092.51\n",
    "            \"Kayak Task 2\",\"1 (Low)\",\"1 (Low)\",2,\"7 (Failure)\",3,4,9393,\"20.1%\",1885,209,3,9,22,231106.77,10946.90\n",
    "            \"Kayak Task 3\",\"1 (Low)\",\"1 (Low)\",\"1 (Low)\",4,5,6,10740,\"22.1%\",2369,224,0,3,66,259267.74,18672.11\n",
    "            \"\"\""
   ]
  },
  {
   "cell_type": "markdown",
   "metadata": {},
   "source": [
    "## Processing Think Aloud Data"
   ]
  },
  {
   "cell_type": "code",
   "execution_count": 10,
   "metadata": {},
   "outputs": [
    {
     "name": "stderr",
     "output_type": "stream",
     "text": [
      "100%|█████████████████████████████████████| 1.42G/1.42G [03:07<00:00, 8.13MiB/s]\n"
     ]
    }
   ],
   "source": [
    "import whisper"
   ]
  },
  {
   "cell_type": "code",
   "execution_count": 15,
   "metadata": {},
   "outputs": [
    {
     "name": "stderr",
     "output_type": "stream",
     "text": [
      "/Library/Frameworks/Python.framework/Versions/3.11/lib/python3.11/site-packages/whisper/__init__.py:63: UserWarning: /Users/issam/.cache/whisper/base.pt exists, but the SHA256 checksum does not match; re-downloading the file\n",
      "  warnings.warn(\n",
      "100%|███████████████████████████████████████| 139M/139M [00:18<00:00, 7.78MiB/s]\n",
      "/Library/Frameworks/Python.framework/Versions/3.11/lib/python3.11/site-packages/whisper/transcribe.py:114: UserWarning: FP16 is not supported on CPU; using FP32 instead\n",
      "  warnings.warn(\"FP16 is not supported on CPU; using FP32 instead\")\n"
     ]
    },
    {
     "name": "stdout",
     "output_type": "stream",
     "text": [
      " Okay, so I'm going to look for New York for the dates on 1st of November until the 30th November. It's just one traveler and yeah, I chose I accidentally searched for hotels instead of searching for flights. So I'm just going to go back even from Toronto going to New York. Same dates, 1st of October, 1th of November. So New York and the cheapest option is already sorted by price. The cheapest one is over $299. I said it's twice the other conditions which are less than $12 hour time and it has zero layovers. I'm perfectly turned flight the cheapest option also satisfies the conditions. Easy easy. Next I'm going to go. Now I'm going to search for hotels. Going to New York. I'm going to search for the first 30th one traveler. Search. Oh, I'm happy to make a free box for the appointment. I'm going to change that. The location setting. The hotel should have a breakfast included. Free Wi-Fi. Wi-Fi included. I second to filter it. We rated at least four stars. I'm going to choose the first one. I'm going to choose the first one. I'm going to choose the first one. I'm going to choose the first one. I second to filter it. I second to filter it. It is. I second to filter it. I second to filter it. I second to filter it. I second to filter it. Okay, double tree by hilton. Match was all looked criteria. And there it is. Okay, perfect. Next, let's do car rental. So hand, again. Cars, pick up. Pick up and drop off at GFK Airport. Pass and four same dates on the first third year. Good time, 1038m, good time. 1030m. Strict. Don't have any discount codes. Let's get that. Wow, it's taking some time to load. Looking for standards to see then. We might find a photo for that. Rental price should not exceed $50 per day. $50 per day, that's like $1500 for the whole trip. Okay, I found this great deal. On the Chevrolet Bolt or similar. Want to click reserve. Okay, here we go. Perfect. All done.\n"
     ]
    }
   ],
   "source": [
    "model = whisper.load_model(\"medium\")\n",
    "transcript1 = model.transcribe(\"audio.mp3\")\n",
    "print(transcript1[\"text\"])\n",
    "transcript2 = model.transcribe(\"audio2.mp3\")\n",
    "print(transcript2[\"text\"])"
   ]
  },
  {
   "cell_type": "code",
   "execution_count": 17,
   "metadata": {},
   "outputs": [
    {
     "name": "stderr",
     "output_type": "stream",
     "text": [
      "/Library/Frameworks/Python.framework/Versions/3.11/lib/python3.11/site-packages/whisper/transcribe.py:114: UserWarning: FP16 is not supported on CPU; using FP32 instead\n",
      "  warnings.warn(\"FP16 is not supported on CPU; using FP32 instead\")\n"
     ]
    },
    {
     "name": "stdout",
     "output_type": "stream",
     "text": [
      " Next, I'm going to search for lights from Toronto to New York. Okay, so Toronto and New York. Setting the dates from the first to 30th. With the township. This part is annoying. Okay, I'm looking for the cheapest option. That does not have more than one link over or travel time in 12 hours. That would be portrait headlines from Toronto to take $3. Yeah, that sounds good. Yeah, I thought those were these. Next, let's look for stays. For the same period. Okay, this is really appropriate to Expedia, a previous upside. Kayaks is awesome. They easy to use. For example, for Expedia, when I searched for hotels, first I searched for flights and then I had to search for hotels. I had to start searching from scratch again, whereas when I was searching for hotels, I searched for flights from Kayaks. The dates were all to preset and the destination. I didn't have to select New York again. The dates came up from the first and the one that I did. That's what was really easy. Okay, so let's filter in for free internet and free breakfast at the hotel. Price is not exceed $200 per night. So, I'm going to go to the hotel and find out what I'm doing. Awesome. Yeah, the hotel I found here, as well as the flight tickets on both of them were cheaper than on Expedia. Which is interesting. So, there's definitely a large variety here. Great. That's next. Look for car rental. Yeah, I'm really easy. Whoa. Whoa. Okay. Want to pick it up and drop it off as JFK. I forgot to say that word search for the car. Okay. Okay, I found the car easily and it's about the same price of the car's own Expedia. Although this one's fully electric, so maybe it's an advantage possible. Oh, that's so funny. This car, I'm going to have to admit to Expedia. So, interesting. So, yeah, I just ended up printing the same car. Actually. Awesome.\n"
     ]
    }
   ],
   "source": [
    "result2 = model.transcribe(\"audio2.mp3\")\n",
    "print(result2[\"text\"])"
   ]
  },
  {
   "cell_type": "markdown",
   "metadata": {},
   "source": []
  },
  {
   "cell_type": "code",
   "execution_count": null,
   "metadata": {},
   "outputs": [],
   "source": [
    "query = f\"\"\"\n",
    "You are uxGPT, an AI ux researcher that uses a combination of eye-tracking and click-tracking metrics, usability behavioral metrics, and web page data from usability studies to identify usability issues and provide actionable insights.\n",
    "\n",
    "You are given the results of a user study. This study was designed to evaluate the usability of the following websites: {websites}\n",
    "\n",
    "The participant was instructed to conduct tasks on each website. The tasks were as follows:\n",
    "{tasks}\n",
    "\n",
    "Metrics generated from study: {metrics}\n",
    "\n",
    "Insights from think-aloud data: {insights}\n",
    "\n",
    "Let’s first understand the problem and devise a plan to conduct the comprehensive analysis. Then, carry out the plan and conduct the analysis step by step.\n",
    "\"\"\"\n",
    "\n",
    "print(query)\n"
   ]
  }
 ],
 "metadata": {
  "kernelspec": {
   "display_name": "Python 3",
   "language": "python",
   "name": "python3"
  },
  "language_info": {
   "codemirror_mode": {
    "name": "ipython",
    "version": 3
   },
   "file_extension": ".py",
   "mimetype": "text/x-python",
   "name": "python",
   "nbconvert_exporter": "python",
   "pygments_lexer": "ipython3",
   "version": "3.11.1"
  },
  "orig_nbformat": 4
 },
 "nbformat": 4,
 "nbformat_minor": 2
}
